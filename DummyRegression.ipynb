{
 "cells": [
  {
   "cell_type": "code",
   "execution_count": 1,
   "metadata": {
    "collapsed": true
   },
   "outputs": [],
   "source": [
    "import pandas as pd\n",
    "import numpy as np\n",
    "import matplotlib.pyplot as plt\n",
    "import seaborn as sns\n",
    "from sklearn.model_selection import train_test_split\n",
    "from sklearn.model_selection import cross_val_score\n",
    "from sklearn import preprocessing\n",
    "from sklearn import linear_model\n",
    "%matplotlib inline"
   ]
  },
  {
   "cell_type": "code",
   "execution_count": 2,
   "metadata": {
    "collapsed": true
   },
   "outputs": [],
   "source": [
    "data = pd.read_csv('http://www-bcf.usc.edu/~gareth/ISL/Credit.csv', index_col=0)"
   ]
  },
  {
   "cell_type": "code",
   "execution_count": 3,
   "metadata": {
    "collapsed": false
   },
   "outputs": [
    {
     "data": {
      "text/html": [
       "<div>\n",
       "<table border=\"1\" class=\"dataframe\">\n",
       "  <thead>\n",
       "    <tr style=\"text-align: right;\">\n",
       "      <th></th>\n",
       "      <th>Income</th>\n",
       "      <th>Limit</th>\n",
       "      <th>Rating</th>\n",
       "      <th>Cards</th>\n",
       "      <th>Age</th>\n",
       "      <th>Education</th>\n",
       "      <th>Gender</th>\n",
       "      <th>Student</th>\n",
       "      <th>Married</th>\n",
       "      <th>Ethnicity</th>\n",
       "      <th>Balance</th>\n",
       "    </tr>\n",
       "  </thead>\n",
       "  <tbody>\n",
       "    <tr>\n",
       "      <th>1</th>\n",
       "      <td>14.891</td>\n",
       "      <td>3606</td>\n",
       "      <td>283</td>\n",
       "      <td>2</td>\n",
       "      <td>34</td>\n",
       "      <td>11</td>\n",
       "      <td>Male</td>\n",
       "      <td>No</td>\n",
       "      <td>Yes</td>\n",
       "      <td>Caucasian</td>\n",
       "      <td>333</td>\n",
       "    </tr>\n",
       "    <tr>\n",
       "      <th>2</th>\n",
       "      <td>106.025</td>\n",
       "      <td>6645</td>\n",
       "      <td>483</td>\n",
       "      <td>3</td>\n",
       "      <td>82</td>\n",
       "      <td>15</td>\n",
       "      <td>Female</td>\n",
       "      <td>Yes</td>\n",
       "      <td>Yes</td>\n",
       "      <td>Asian</td>\n",
       "      <td>903</td>\n",
       "    </tr>\n",
       "    <tr>\n",
       "      <th>3</th>\n",
       "      <td>104.593</td>\n",
       "      <td>7075</td>\n",
       "      <td>514</td>\n",
       "      <td>4</td>\n",
       "      <td>71</td>\n",
       "      <td>11</td>\n",
       "      <td>Male</td>\n",
       "      <td>No</td>\n",
       "      <td>No</td>\n",
       "      <td>Asian</td>\n",
       "      <td>580</td>\n",
       "    </tr>\n",
       "    <tr>\n",
       "      <th>4</th>\n",
       "      <td>148.924</td>\n",
       "      <td>9504</td>\n",
       "      <td>681</td>\n",
       "      <td>3</td>\n",
       "      <td>36</td>\n",
       "      <td>11</td>\n",
       "      <td>Female</td>\n",
       "      <td>No</td>\n",
       "      <td>No</td>\n",
       "      <td>Asian</td>\n",
       "      <td>964</td>\n",
       "    </tr>\n",
       "    <tr>\n",
       "      <th>5</th>\n",
       "      <td>55.882</td>\n",
       "      <td>4897</td>\n",
       "      <td>357</td>\n",
       "      <td>2</td>\n",
       "      <td>68</td>\n",
       "      <td>16</td>\n",
       "      <td>Male</td>\n",
       "      <td>No</td>\n",
       "      <td>Yes</td>\n",
       "      <td>Caucasian</td>\n",
       "      <td>331</td>\n",
       "    </tr>\n",
       "  </tbody>\n",
       "</table>\n",
       "</div>"
      ],
      "text/plain": [
       "    Income  Limit  Rating  Cards  Age  Education  Gender Student Married  \\\n",
       "1   14.891   3606     283      2   34         11    Male      No     Yes   \n",
       "2  106.025   6645     483      3   82         15  Female     Yes     Yes   \n",
       "3  104.593   7075     514      4   71         11    Male      No      No   \n",
       "4  148.924   9504     681      3   36         11  Female      No      No   \n",
       "5   55.882   4897     357      2   68         16    Male      No     Yes   \n",
       "\n",
       "   Ethnicity  Balance  \n",
       "1  Caucasian      333  \n",
       "2      Asian      903  \n",
       "3      Asian      580  \n",
       "4      Asian      964  \n",
       "5  Caucasian      331  "
      ]
     },
     "execution_count": 3,
     "metadata": {},
     "output_type": "execute_result"
    }
   ],
   "source": [
    "data.head()"
   ]
  },
  {
   "cell_type": "code",
   "execution_count": 4,
   "metadata": {
    "collapsed": false
   },
   "outputs": [
    {
     "data": {
      "text/html": [
       "<div>\n",
       "<table border=\"1\" class=\"dataframe\">\n",
       "  <thead>\n",
       "    <tr style=\"text-align: right;\">\n",
       "      <th></th>\n",
       "      <th>Income</th>\n",
       "      <th>Limit</th>\n",
       "      <th>Rating</th>\n",
       "      <th>Cards</th>\n",
       "      <th>Age</th>\n",
       "      <th>Education</th>\n",
       "    </tr>\n",
       "  </thead>\n",
       "  <tbody>\n",
       "    <tr>\n",
       "      <th>1</th>\n",
       "      <td>14.891</td>\n",
       "      <td>3606</td>\n",
       "      <td>283</td>\n",
       "      <td>2</td>\n",
       "      <td>34</td>\n",
       "      <td>11</td>\n",
       "    </tr>\n",
       "    <tr>\n",
       "      <th>2</th>\n",
       "      <td>106.025</td>\n",
       "      <td>6645</td>\n",
       "      <td>483</td>\n",
       "      <td>3</td>\n",
       "      <td>82</td>\n",
       "      <td>15</td>\n",
       "    </tr>\n",
       "    <tr>\n",
       "      <th>3</th>\n",
       "      <td>104.593</td>\n",
       "      <td>7075</td>\n",
       "      <td>514</td>\n",
       "      <td>4</td>\n",
       "      <td>71</td>\n",
       "      <td>11</td>\n",
       "    </tr>\n",
       "    <tr>\n",
       "      <th>4</th>\n",
       "      <td>148.924</td>\n",
       "      <td>9504</td>\n",
       "      <td>681</td>\n",
       "      <td>3</td>\n",
       "      <td>36</td>\n",
       "      <td>11</td>\n",
       "    </tr>\n",
       "    <tr>\n",
       "      <th>5</th>\n",
       "      <td>55.882</td>\n",
       "      <td>4897</td>\n",
       "      <td>357</td>\n",
       "      <td>2</td>\n",
       "      <td>68</td>\n",
       "      <td>16</td>\n",
       "    </tr>\n",
       "  </tbody>\n",
       "</table>\n",
       "</div>"
      ],
      "text/plain": [
       "    Income  Limit  Rating  Cards  Age  Education\n",
       "1   14.891   3606     283      2   34         11\n",
       "2  106.025   6645     483      3   82         15\n",
       "3  104.593   7075     514      4   71         11\n",
       "4  148.924   9504     681      3   36         11\n",
       "5   55.882   4897     357      2   68         16"
      ]
     },
     "execution_count": 4,
     "metadata": {},
     "output_type": "execute_result"
    }
   ],
   "source": [
    "X=data[['Income', 'Limit', 'Rating', 'Cards', 'Age', 'Education']]\n",
    "Y=data['Balance']\n",
    "X.head()"
   ]
  },
  {
   "cell_type": "code",
   "execution_count": 5,
   "metadata": {
    "collapsed": false
   },
   "outputs": [
    {
     "data": {
      "text/html": [
       "<div>\n",
       "<table border=\"1\" class=\"dataframe\">\n",
       "  <thead>\n",
       "    <tr style=\"text-align: right;\">\n",
       "      <th></th>\n",
       "      <th>Male</th>\n",
       "      <th>Female</th>\n",
       "    </tr>\n",
       "  </thead>\n",
       "  <tbody>\n",
       "    <tr>\n",
       "      <th>1</th>\n",
       "      <td>1.0</td>\n",
       "      <td>0.0</td>\n",
       "    </tr>\n",
       "    <tr>\n",
       "      <th>2</th>\n",
       "      <td>0.0</td>\n",
       "      <td>1.0</td>\n",
       "    </tr>\n",
       "    <tr>\n",
       "      <th>3</th>\n",
       "      <td>1.0</td>\n",
       "      <td>0.0</td>\n",
       "    </tr>\n",
       "    <tr>\n",
       "      <th>4</th>\n",
       "      <td>0.0</td>\n",
       "      <td>1.0</td>\n",
       "    </tr>\n",
       "    <tr>\n",
       "      <th>5</th>\n",
       "      <td>1.0</td>\n",
       "      <td>0.0</td>\n",
       "    </tr>\n",
       "  </tbody>\n",
       "</table>\n",
       "</div>"
      ],
      "text/plain": [
       "    Male  Female\n",
       "1    1.0     0.0\n",
       "2    0.0     1.0\n",
       "3    1.0     0.0\n",
       "4    0.0     1.0\n",
       "5    1.0     0.0"
      ]
     },
     "execution_count": 5,
     "metadata": {},
     "output_type": "execute_result"
    }
   ],
   "source": [
    "# convert dummy\n",
    "X_gender = pd.get_dummies(data['Gender'])\n",
    "X_gender.head()"
   ]
  },
  {
   "cell_type": "code",
   "execution_count": 6,
   "metadata": {
    "collapsed": false
   },
   "outputs": [
    {
     "data": {
      "text/html": [
       "<div>\n",
       "<table border=\"1\" class=\"dataframe\">\n",
       "  <thead>\n",
       "    <tr style=\"text-align: right;\">\n",
       "      <th></th>\n",
       "      <th>Income</th>\n",
       "      <th>Limit</th>\n",
       "      <th>Rating</th>\n",
       "      <th>Cards</th>\n",
       "      <th>Age</th>\n",
       "      <th>Education</th>\n",
       "      <th>Female</th>\n",
       "    </tr>\n",
       "  </thead>\n",
       "  <tbody>\n",
       "    <tr>\n",
       "      <th>1</th>\n",
       "      <td>14.891</td>\n",
       "      <td>3606</td>\n",
       "      <td>283</td>\n",
       "      <td>2</td>\n",
       "      <td>34</td>\n",
       "      <td>11</td>\n",
       "      <td>0.0</td>\n",
       "    </tr>\n",
       "    <tr>\n",
       "      <th>2</th>\n",
       "      <td>106.025</td>\n",
       "      <td>6645</td>\n",
       "      <td>483</td>\n",
       "      <td>3</td>\n",
       "      <td>82</td>\n",
       "      <td>15</td>\n",
       "      <td>1.0</td>\n",
       "    </tr>\n",
       "    <tr>\n",
       "      <th>3</th>\n",
       "      <td>104.593</td>\n",
       "      <td>7075</td>\n",
       "      <td>514</td>\n",
       "      <td>4</td>\n",
       "      <td>71</td>\n",
       "      <td>11</td>\n",
       "      <td>0.0</td>\n",
       "    </tr>\n",
       "    <tr>\n",
       "      <th>4</th>\n",
       "      <td>148.924</td>\n",
       "      <td>9504</td>\n",
       "      <td>681</td>\n",
       "      <td>3</td>\n",
       "      <td>36</td>\n",
       "      <td>11</td>\n",
       "      <td>1.0</td>\n",
       "    </tr>\n",
       "    <tr>\n",
       "      <th>5</th>\n",
       "      <td>55.882</td>\n",
       "      <td>4897</td>\n",
       "      <td>357</td>\n",
       "      <td>2</td>\n",
       "      <td>68</td>\n",
       "      <td>16</td>\n",
       "      <td>0.0</td>\n",
       "    </tr>\n",
       "  </tbody>\n",
       "</table>\n",
       "</div>"
      ],
      "text/plain": [
       "    Income  Limit  Rating  Cards  Age  Education  Female\n",
       "1   14.891   3606     283      2   34         11     0.0\n",
       "2  106.025   6645     483      3   82         15     1.0\n",
       "3  104.593   7075     514      4   71         11     0.0\n",
       "4  148.924   9504     681      3   36         11     1.0\n",
       "5   55.882   4897     357      2   68         16     0.0"
      ]
     },
     "execution_count": 6,
     "metadata": {},
     "output_type": "execute_result"
    }
   ],
   "source": [
    "X_new = pd.concat([X, X_gender['Female']], axis=1)\n",
    "X_new.head()"
   ]
  },
  {
   "cell_type": "code",
   "execution_count": 7,
   "metadata": {
    "collapsed": false
   },
   "outputs": [
    {
     "name": "stdout",
     "output_type": "stream",
     "text": [
      "Expected value for Female   529.536231884058\n",
      "Expected value for Male     509.8031088082902\n",
      "Is this difference statiscally signicant? \n"
     ]
    },
    {
     "data": {
      "image/png": "[encoded data removed]",
      "text/plain": [
       "<matplotlib.figure.Figure at 0x112406eb8>"
      ]
     },
     "metadata": {},
     "output_type": "display_data"
    }
   ],
   "source": [
    "plt.scatter(X_new['Female'],Y)\n",
    "plt.ylabel('Balance')\n",
    "plt.xlabel('Male / Female')\n",
    "\n",
    "print ('Expected value for Female   ' + str(np.mean(Y[X_new['Female']==1])))\n",
    "print ('Expected value for Male     ' + str(np.mean(Y[X_new['Female']==0])))\n",
    "print ('Is this difference statiscally signicant? ')"
   ]
  },
  {
   "cell_type": "markdown",
   "metadata": {},
   "source": [
    "It's seems that (visually) there is not difference in Income conditing through Gender . "
   ]
  },
  {
   "cell_type": "code",
   "execution_count": 8,
   "metadata": {
    "collapsed": false
   },
   "outputs": [
    {
     "name": "stdout",
     "output_type": "stream",
     "text": [
      "51.74999999999999% percent of obs are Female\n",
      "There is 207.0 female in data set\n"
     ]
    }
   ],
   "source": [
    "print (str(np.mean(X_new['Female'])*100) +  '% percent of obs are Female')\n",
    "print ('There is ' + str(sum(X_new['Female'])) + ' female in data set')\n",
    "n_female_mean = np.mean(X_new['Female'])\n",
    "n_female = sum(X_new['Female'])\n"
   ]
  },
  {
   "cell_type": "markdown",
   "metadata": {},
   "source": [
    "The data set can be assumed as balanced through Gender.\n",
    "\n",
    "## The idea\n",
    "we want to know if conditionating by gender, and doing a separated models for each gender we can have a significative statistical difference. So let me use the Shuflling technique to find a empirical distribution for ad hoc statiscs ( $d$ ) that tells how differents are models. \n",
    "\n",
    "So if we want compare models in principle we can compare betas or weights coefficients in the model of lineal regression, or score of explained variance, etc. "
   ]
  },
  {
   "cell_type": "markdown",
   "metadata": {},
   "source": [
    "---\n",
    "Algorithm steps:\n",
    "---\n",
    "    For each simulation\n",
    "        1. Normalized data in order to avoid problems with intercept \n",
    "        2. Estimate models by gender\n",
    "        3. Compute statistics \n",
    "        4. Store\n",
    "    "
   ]
  },
  {
   "cell_type": "code",
   "execution_count": 13,
   "metadata": {
    "collapsed": false
   },
   "outputs": [],
   "source": [
    "# First find the value of statistics for the original data\n",
    "# Then, normalizing data \n",
    "\n",
    "gender_ori = data['Gender'] == \"Female\"\n",
    "data_f = data[gender_ori].head()\n",
    "data_m = data[~gender_ori].head()\n",
    "\n",
    "X_m=data_m[['Income', 'Limit', 'Rating', 'Cards', 'Age', 'Education']]\n",
    "Y_m=data_m['Balance']\n",
    "\n",
    "X_f=data_f[['Income', 'Limit', 'Rating', 'Cards', 'Age', 'Education']]\n",
    "Y_f=data_f['Balance']\n",
    "\n",
    "scaler1 = preprocessing.StandardScaler().fit(X_m)\n",
    "X_m = scaler1.transform(X_m)\n",
    "Y_m = (Y_m - np.mean(Y_m))/np.std(Y_m)\n",
    "\n",
    "scaler1 = preprocessing.StandardScaler().fit(X_f)\n",
    "X_f = scaler1.transform(X_f)\n",
    "Y_f = (Y_f - np.mean(Y_f))/np.std(Y_f)\n"
   ]
  },
  {
   "cell_type": "code",
   "execution_count": 15,
   "metadata": {
    "collapsed": false
   },
   "outputs": [
    {
     "name": "stdout",
     "output_type": "stream",
     "text": [
      "0.0309044822458\n",
      "-0.00140854911502\n"
     ]
    }
   ],
   "source": [
    "# Evalueate statistics for the original data, we set alpha = 0.5 from previous analysis\n",
    "# https://github.com/Torroledo/advancedComputationalMethods/blob/master/clases/semana11/Liner_Model_Regularization_LASSO.ipynb\n",
    "# female  \n",
    "clf_f = linear_model.Lasso(alpha=0.5)\n",
    "clf_f.fit(X_f, Y_f)\n",
    "# male\n",
    "clf_m = linear_model.Lasso(alpha=0.5)\n",
    "clf_m.fit(X_m, Y_m)\n",
    "\n",
    "# First statistic, (difference between estimated betas)\n",
    "diff_beta_ori = sum((clf_f.coef_-clf_m.coef_)**2)\n",
    "    \n",
    "# Second statistic (difference between scores)\n",
    "diff_score_ori = (clf_f.score(X_f, Y_f)-clf_m.score(X_m, Y_m))\n",
    "print (diff_beta_ori)\n",
    "print (diff_score_ori)"
   ]
  },
  {
   "cell_type": "code",
   "execution_count": 16,
   "metadata": {
    "collapsed": false
   },
   "outputs": [],
   "source": [
    "simul = 10000\n",
    "n,m = X.shape \n",
    "diff_beta  = np.zeros(simul)\n",
    "diff_score = np.zeros(simul)\n",
    "for i in range(simul):\n",
    "    # Assign aleatorily the gender\n",
    "    gender = np.random.randint(0,2,n)\n",
    "    \n",
    "    #Normalization between groups\n",
    "    selection = gender==1\n",
    "    scaler1 = preprocessing.StandardScaler().fit(X[selection])\n",
    "    X_f_normal = scaler1.transform(X[selection])\n",
    "    Y_f_normal = (Y[selection] - np.mean(Y[selection]))/np.std(Y[selection])\n",
    "        \n",
    "    selection = gender==0\n",
    "    scaler = preprocessing.StandardScaler().fit(X[selection])\n",
    "    X_m_normal = scaler.transform(X[selection])\n",
    "    Y_m_normal = (Y[selection] - np.mean(Y[selection]))/np.std(Y[selection])\n",
    "    \n",
    "    # female  \n",
    "    clf_f = linear_model.Lasso(alpha=0.5)\n",
    "    clf_f.fit(X_f_normal, Y_f_normal)\n",
    "    # male\n",
    "    clf_m = linear_model.Lasso(alpha=0.5)\n",
    "    clf_m.fit(X_m_normal, Y_m_normal)\n",
    "    \n",
    "    # first statistic (sum of squared differences between betas)\n",
    "    diff_beta[i] = sum((clf_f.coef_-clf_m.coef_)**2)\n",
    "    \n",
    "    # Second statistic (score)\n",
    "    diff_score[i] = (clf_f.score(X_f_normal,Y_f_normal)-clf_m.score(X_m_normal, Y_m_normal))\n",
    "    "
   ]
  },
  {
   "cell_type": "code",
   "execution_count": 19,
   "metadata": {
    "collapsed": false
   },
   "outputs": [
    {
     "data": {
      "image/png": "[encoded data removed]",
      "text/plain": [
       "<matplotlib.figure.Figure at 0x1150ee828>"
      ]
     },
     "metadata": {},
     "output_type": "display_data"
    }
   ],
   "source": [
    "n, bins, patches = plt.hist(diff_beta, bins =100, normed=1.0, facecolor='green', alpha=0.5)"
   ]
  },
  {
   "cell_type": "code",
   "execution_count": 20,
   "metadata": {
    "collapsed": false
   },
   "outputs": [
    {
     "data": {
      "image/png": "[encoded data removed]",
      "text/plain": [
       "<matplotlib.figure.Figure at 0x114d9dfd0>"
      ]
     },
     "metadata": {},
     "output_type": "display_data"
    }
   ],
   "source": [
    "n, bins, patches = plt.hist(diff_score, bins =100, normed=1.0, facecolor='green', alpha=0.5)\n",
    "values, base = np.histogram(diff_score, bins = 100)"
   ]
  },
  {
   "cell_type": "markdown",
   "metadata": {
    "collapsed": true
   },
   "source": [
    "---\n",
    "\n",
    "We can see that score it is a better statistics than difference in betas because betas has a bimodal distribution. So, usinng the estimated distribution of score statistic"
   ]
  },
  {
   "cell_type": "code",
   "execution_count": 21,
   "metadata": {
    "collapsed": false
   },
   "outputs": [
    {
     "data": {
      "text/plain": [
       "[<matplotlib.lines.Line2D at 0x1158d4860>]"
      ]
     },
     "execution_count": 21,
     "metadata": {},
     "output_type": "execute_result"
    },
    {
     "data": {
      "image/png": "[encoded data removed]",
      "text/plain": [
       "<matplotlib.figure.Figure at 0x1157ecd30>"
      ]
     },
     "metadata": {},
     "output_type": "display_data"
    }
   ],
   "source": [
    "area = sum(values*(base[1:]-base[:-1]))\n",
    "values_new = values/area\n",
    "\n",
    "plt.plot(base[:-1],values_new)"
   ]
  },
  {
   "cell_type": "code",
   "execution_count": 24,
   "metadata": {
    "collapsed": false
   },
   "outputs": [
    {
     "name": "stdout",
     "output_type": "stream",
     "text": [
      "if total area is : 39.3486094056  for a 0.05 of significance is 1.96743047028\n"
     ]
    }
   ],
   "source": [
    "print('if total area is : ' + str(area) + '  for a 0.05 of significance is ' + str(area*0.05))"
   ]
  },
  {
   "cell_type": "code",
   "execution_count": 31,
   "metadata": {
    "collapsed": false
   },
   "outputs": [
    {
     "name": "stdout",
     "output_type": "stream",
     "text": [
      "19.2886883306\n"
     ]
    },
    {
     "name": "stderr",
     "output_type": "stream",
     "text": [
      "//anaconda/lib/python3.5/site-packages/ipykernel/__main__.py:3: VisibleDeprecationWarning: boolean index did not match indexed array along dimension 0; dimension is 100 but corresponding boolean dimension is 101\n",
      "  app.launch_new_instance()\n"
     ]
    }
   ],
   "source": [
    "# calculating area of statistic for orignal data \n",
    "\n",
    "area = sum(values[base<diff_score_ori]*(base[1:][base<diff_score_ori] -base[:-1][base<diff_score_ori]))\n",
    "\n",
    "print(area)"
   ]
  },
  {
   "cell_type": "markdown",
   "metadata": {},
   "source": [
    "# Conclusion \n",
    "\n",
    "So the area related with the score statistic for the original data is greater than area related with a p-value(0.05), then we can say that with 0.05 significance there is not difference between models that divide by gender"
   ]
  }
 ],
 "metadata": {
  "anaconda-cloud": {},
  "kernelspec": {
   "display_name": "Python [Root]",
   "language": "python",
   "name": "Python [Root]"
  },
  "language_info": {
   "codemirror_mode": {
    "name": "ipython",
    "version": 3
   },
   "file_extension": ".py",
   "mimetype": "text/x-python",
   "name": "python",
   "nbconvert_exporter": "python",
   "pygments_lexer": "ipython3",
   "version": "3.5.2"
  }
 },
 "nbformat": 4,
 "nbformat_minor": 0
}
